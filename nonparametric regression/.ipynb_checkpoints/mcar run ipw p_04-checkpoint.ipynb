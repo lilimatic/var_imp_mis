{
 "cells": [
  {
   "cell_type": "code",
   "execution_count": 1,
   "metadata": {},
   "outputs": [],
   "source": [
    "import os\n",
    "import pandas as pd\n",
    "import numpy as np\n",
    "import matplotlib.pyplot as plt\n",
    "import seaborn as sns\n",
    "\n",
    "import statsmodels.nonparametric.api as nparam\n",
    "from statsmodels.nonparametric.kernel_regression import KernelReg"
   ]
  },
  {
   "cell_type": "code",
   "execution_count": 2,
   "metadata": {},
   "outputs": [],
   "source": [
    "#!/usr/local/Cluster-Apps/python/3.11.0-icl/bin/python3.11 -m pip install statsmodels"
   ]
  },
  {
   "cell_type": "code",
   "execution_count": 3,
   "metadata": {},
   "outputs": [],
   "source": [
    "os.chdir('/home/jlm217/var_imp_mis')\n",
    "from function import *"
   ]
  },
  {
   "cell_type": "code",
   "execution_count": 4,
   "metadata": {},
   "outputs": [],
   "source": [
    "df = pd.read_csv('data_sim.csv')\n",
    "df.drop('Unnamed: 0',axis=1,inplace=True)"
   ]
  },
  {
   "cell_type": "code",
   "execution_count": 5,
   "metadata": {},
   "outputs": [],
   "source": [
    "n = len(df[:300])\n",
    "\n",
    "df= df[:300]\n",
    "\n",
    "eps = np.random.normal(0, 0.1, n)\n",
    "\n",
    "a = 2\n",
    "b = 2\n",
    "\n",
    "b0=0.5\n",
    "b1 = 0.5\n",
    "\n",
    "sim = 300\n",
    "\n",
    "#p = 0.7"
   ]
  },
  {
   "cell_type": "code",
   "execution_count": 6,
   "metadata": {},
   "outputs": [],
   "source": [
    "settings=nparam.EstimatorSettings(efficient=True)"
   ]
  },
  {
   "cell_type": "code",
   "execution_count": 7,
   "metadata": {},
   "outputs": [],
   "source": [
    "def sobol_reg_iwp(df,n1,request,sim,a,b,eps,p):\n",
    "    sobol_list = []\n",
    "    df1 = df.copy()\n",
    "    for x in range(sim):\n",
    "        #Compute y_hat\n",
    "        y = dataset(n1,df1).ishigami(eps)(a,b)\n",
    "        model_pf = KernelReg(endog=[y.to_numpy()],exog=[df1['X1'],df1['X2'],df1['X3']],reg_type='lc',var_type='ccc', bw='cv_ls',defaults=settings)\n",
    "        y_hat = model_pf.fit([df1['X1'],df1['X2'],df1['X3']])[0]/p\n",
    "        #Pick-Freezed\n",
    "        df_pf   = dataset(n1,df).picked(request,a,b)\n",
    "        df_pf['Y'] = dataset(n1,df_pf).ishigami(eps)(a,b)\n",
    "        model_pf = KernelReg(endog=[df_pf['Y'].to_numpy()],exog=[df_pf['X1'],df_pf['X2'],df_pf['X3']],reg_type='lc',var_type='ccc', bw='cv_ls',defaults=settings)\n",
    "        df_pf['Y_hat'] = model_pf.fit([df_pf['X1'],df_pf['X2'],df_pf['X3']])[0]/p\n",
    "        sobol_list.append((np.cov(y_hat,df_pf['Y_hat'],bias=False)/np.var(y_hat))[0][1])\n",
    "    return sobol_list"
   ]
  },
  {
   "cell_type": "code",
   "execution_count": 8,
   "metadata": {},
   "outputs": [],
   "source": [
    "#sobol_reg(df,n,['X2','X3'],10,a,b,eps,y_hat)"
   ]
  },
  {
   "cell_type": "code",
   "execution_count": 9,
   "metadata": {},
   "outputs": [],
   "source": [
    "def singletons_reg_iwp(df,n1,sim,a,b,eps,p):\n",
    "    singleton = []\n",
    "    for x in [['X2','X3'],['X1','X3'],['X1','X2']]:\n",
    "        singleton.append(sobol_reg_iwp(df,n1,x,sim,a,b,eps,p))\n",
    "    return pd.DataFrame(dict(zip(['X1','X2','X3'],singleton)))\n",
    "\n",
    "\n"
   ]
  },
  {
   "cell_type": "code",
   "execution_count": 10,
   "metadata": {},
   "outputs": [],
   "source": [
    "def singleton_reg_iwp(df,Xi,n,p,sample):\n",
    "    omega = pd.DataFrame(np.random.binomial(size=n, n=1, p= p),columns=[Xi])\n",
    "    omega[df.drop([Xi],axis=1).columns]=  np.ones((n,2),dtype=int)\n",
    "    cc = df.where(omega==1,np.nan).dropna()\n",
    "    print(len(cc))\n",
    "    single_sobol_cc = singletons_reg_iwp(df,n,sim,a,b,eps,p)\n",
    "    #fig, ax = plt.subplots()\n",
    "    #ax.boxplot(single_sobol_cc)\n",
    "    #ax.set_xticklabels(single_sobol_cc.columns)\n",
    "    single_sobol_cc['sample'] = sample\n",
    "    return single_sobol_cc"
   ]
  },
  {
   "cell_type": "code",
   "execution_count": 11,
   "metadata": {},
   "outputs": [],
   "source": [
    "#singleton_reg(df,'X1',n,p,'cc')"
   ]
  },
  {
   "cell_type": "code",
   "execution_count": null,
   "metadata": {},
   "outputs": [
    {
     "name": "stdout",
     "output_type": "stream",
     "text": [
      "X1 is missing\n",
      "\n",
      "0.9\n",
      "265\n"
     ]
    },
    {
     "name": "stderr",
     "output_type": "stream",
     "text": [
      "/home/jlm217/.local/lib/python3.11/site-packages/statsmodels/nonparametric/kernel_regression.py:251: RuntimeWarning: invalid value encountered in divide\n",
      "  B_x = (G_numer * d_fx - G_denom * d_mx) / (G_denom**2)\n",
      "/home/jlm217/.local/lib/python3.11/site-packages/statsmodels/nonparametric/kernel_regression.py:251: RuntimeWarning: invalid value encountered in divide\n",
      "  B_x = (G_numer * d_fx - G_denom * d_mx) / (G_denom**2)\n",
      "/home/jlm217/.local/lib/python3.11/site-packages/statsmodels/nonparametric/kernel_regression.py:238: RuntimeWarning: invalid value encountered in divide\n",
      "  G = G_numer / G_denom\n",
      "/home/jlm217/.local/lib/python3.11/site-packages/statsmodels/nonparametric/kernel_regression.py:250: RuntimeWarning: invalid value encountered in divide\n",
      "  B_x = d_mx / f_x - G * d_fx / f_x\n",
      "/home/jlm217/.local/lib/python3.11/site-packages/statsmodels/nonparametric/kernel_regression.py:251: RuntimeWarning: invalid value encountered in divide\n",
      "  B_x = (G_numer * d_fx - G_denom * d_mx) / (G_denom**2)\n",
      "/home/jlm217/.local/lib/python3.11/site-packages/statsmodels/nonparametric/kernel_regression.py:238: RuntimeWarning: invalid value encountered in divide\n",
      "  G = G_numer / G_denom\n",
      "/home/jlm217/.local/lib/python3.11/site-packages/statsmodels/nonparametric/kernel_regression.py:250: RuntimeWarning: invalid value encountered in divide\n",
      "  B_x = d_mx / f_x - G * d_fx / f_x\n",
      "/home/jlm217/.local/lib/python3.11/site-packages/statsmodels/nonparametric/kernel_regression.py:251: RuntimeWarning: invalid value encountered in divide\n",
      "  B_x = (G_numer * d_fx - G_denom * d_mx) / (G_denom**2)\n",
      "/home/jlm217/.local/lib/python3.11/site-packages/statsmodels/nonparametric/kernel_regression.py:251: RuntimeWarning: invalid value encountered in divide\n",
      "  B_x = (G_numer * d_fx - G_denom * d_mx) / (G_denom**2)\n",
      "/home/jlm217/.local/lib/python3.11/site-packages/statsmodels/nonparametric/kernel_regression.py:238: RuntimeWarning: invalid value encountered in divide\n",
      "  G = G_numer / G_denom\n",
      "/home/jlm217/.local/lib/python3.11/site-packages/statsmodels/nonparametric/kernel_regression.py:250: RuntimeWarning: invalid value encountered in divide\n",
      "  B_x = d_mx / f_x - G * d_fx / f_x\n",
      "/home/jlm217/.local/lib/python3.11/site-packages/statsmodels/nonparametric/kernel_regression.py:251: RuntimeWarning: invalid value encountered in divide\n",
      "  B_x = (G_numer * d_fx - G_denom * d_mx) / (G_denom**2)\n",
      "/home/jlm217/.local/lib/python3.11/site-packages/statsmodels/nonparametric/kernel_regression.py:238: RuntimeWarning: invalid value encountered in divide\n",
      "  G = G_numer / G_denom\n",
      "/home/jlm217/.local/lib/python3.11/site-packages/statsmodels/nonparametric/kernel_regression.py:250: RuntimeWarning: invalid value encountered in divide\n",
      "  B_x = d_mx / f_x - G * d_fx / f_x\n",
      "/home/jlm217/.local/lib/python3.11/site-packages/statsmodels/nonparametric/kernel_regression.py:238: RuntimeWarning: invalid value encountered in divide\n",
      "  G = G_numer / G_denom\n",
      "/home/jlm217/.local/lib/python3.11/site-packages/statsmodels/nonparametric/kernel_regression.py:250: RuntimeWarning: invalid value encountered in divide\n",
      "  B_x = d_mx / f_x - G * d_fx / f_x\n",
      "/home/jlm217/.local/lib/python3.11/site-packages/statsmodels/nonparametric/kernel_regression.py:251: RuntimeWarning: invalid value encountered in divide\n",
      "  B_x = (G_numer * d_fx - G_denom * d_mx) / (G_denom**2)\n",
      "/home/jlm217/.local/lib/python3.11/site-packages/statsmodels/nonparametric/kernel_regression.py:238: RuntimeWarning: invalid value encountered in divide\n",
      "  G = G_numer / G_denom\n",
      "/home/jlm217/.local/lib/python3.11/site-packages/statsmodels/nonparametric/kernel_regression.py:250: RuntimeWarning: invalid value encountered in divide\n",
      "  B_x = d_mx / f_x - G * d_fx / f_x\n",
      "/home/jlm217/.local/lib/python3.11/site-packages/statsmodels/nonparametric/kernel_regression.py:251: RuntimeWarning: invalid value encountered in divide\n",
      "  B_x = (G_numer * d_fx - G_denom * d_mx) / (G_denom**2)\n",
      "/home/jlm217/.local/lib/python3.11/site-packages/statsmodels/nonparametric/kernel_regression.py:251: RuntimeWarning: invalid value encountered in divide\n",
      "  B_x = (G_numer * d_fx - G_denom * d_mx) / (G_denom**2)\n",
      "/home/jlm217/.local/lib/python3.11/site-packages/statsmodels/nonparametric/kernel_regression.py:238: RuntimeWarning: invalid value encountered in divide\n",
      "  G = G_numer / G_denom\n",
      "/home/jlm217/.local/lib/python3.11/site-packages/statsmodels/nonparametric/kernel_regression.py:250: RuntimeWarning: invalid value encountered in divide\n",
      "  B_x = d_mx / f_x - G * d_fx / f_x\n",
      "/home/jlm217/.local/lib/python3.11/site-packages/statsmodels/nonparametric/kernel_regression.py:238: RuntimeWarning: invalid value encountered in divide\n",
      "  G = G_numer / G_denom\n",
      "/home/jlm217/.local/lib/python3.11/site-packages/statsmodels/nonparametric/kernel_regression.py:250: RuntimeWarning: invalid value encountered in divide\n",
      "  B_x = d_mx / f_x - G * d_fx / f_x\n",
      "/home/jlm217/.local/lib/python3.11/site-packages/statsmodels/nonparametric/kernel_regression.py:251: RuntimeWarning: invalid value encountered in divide\n",
      "  B_x = (G_numer * d_fx - G_denom * d_mx) / (G_denom**2)\n",
      "/home/jlm217/.local/lib/python3.11/site-packages/statsmodels/nonparametric/kernel_regression.py:238: RuntimeWarning: invalid value encountered in divide\n",
      "  G = G_numer / G_denom\n",
      "/home/jlm217/.local/lib/python3.11/site-packages/statsmodels/nonparametric/kernel_regression.py:250: RuntimeWarning: invalid value encountered in divide\n",
      "  B_x = d_mx / f_x - G * d_fx / f_x\n",
      "/home/jlm217/.local/lib/python3.11/site-packages/statsmodels/nonparametric/kernel_regression.py:251: RuntimeWarning: invalid value encountered in divide\n",
      "  B_x = (G_numer * d_fx - G_denom * d_mx) / (G_denom**2)\n",
      "/home/jlm217/.local/lib/python3.11/site-packages/statsmodels/nonparametric/kernel_regression.py:238: RuntimeWarning: invalid value encountered in divide\n",
      "  G = G_numer / G_denom\n",
      "/home/jlm217/.local/lib/python3.11/site-packages/statsmodels/nonparametric/kernel_regression.py:250: RuntimeWarning: invalid value encountered in divide\n",
      "  B_x = d_mx / f_x - G * d_fx / f_x\n",
      "/home/jlm217/.local/lib/python3.11/site-packages/statsmodels/nonparametric/kernel_regression.py:251: RuntimeWarning: invalid value encountered in divide\n",
      "  B_x = (G_numer * d_fx - G_denom * d_mx) / (G_denom**2)\n",
      "/home/jlm217/.local/lib/python3.11/site-packages/statsmodels/nonparametric/kernel_regression.py:251: RuntimeWarning: invalid value encountered in divide\n",
      "  B_x = (G_numer * d_fx - G_denom * d_mx) / (G_denom**2)\n",
      "/home/jlm217/.local/lib/python3.11/site-packages/statsmodels/nonparametric/kernel_regression.py:251: RuntimeWarning: invalid value encountered in divide\n",
      "  B_x = (G_numer * d_fx - G_denom * d_mx) / (G_denom**2)\n",
      "/home/jlm217/.local/lib/python3.11/site-packages/statsmodels/nonparametric/kernel_regression.py:238: RuntimeWarning: invalid value encountered in divide\n",
      "  G = G_numer / G_denom\n",
      "/home/jlm217/.local/lib/python3.11/site-packages/statsmodels/nonparametric/kernel_regression.py:250: RuntimeWarning: invalid value encountered in divide\n",
      "  B_x = d_mx / f_x - G * d_fx / f_x\n",
      "/home/jlm217/.local/lib/python3.11/site-packages/statsmodels/nonparametric/kernel_regression.py:251: RuntimeWarning: invalid value encountered in divide\n",
      "  B_x = (G_numer * d_fx - G_denom * d_mx) / (G_denom**2)\n",
      "/home/jlm217/.local/lib/python3.11/site-packages/statsmodels/nonparametric/kernel_regression.py:238: RuntimeWarning: invalid value encountered in divide\n",
      "  G = G_numer / G_denom\n",
      "/home/jlm217/.local/lib/python3.11/site-packages/statsmodels/nonparametric/kernel_regression.py:250: RuntimeWarning: invalid value encountered in divide\n",
      "  B_x = d_mx / f_x - G * d_fx / f_x\n"
     ]
    }
   ],
   "source": [
    "for x in ['X1','X2','X3']: #\n",
    "    for p in [0.4]: #,0.7,0.4\n",
    "        print(x+ ' is missing')\n",
    "        print()\n",
    "        print(p)\n",
    "        single_sobol = singleton_reg_iwp(df,x,n,1,'complete')\n",
    "        single_sobol_cc = singleton_reg_iwp(df,x,n,p,'cc')\n",
    "        cdf = pd.concat([single_sobol, single_sobol_cc],axis=0)  \n",
    "        \n",
    "        \n",
    "        dd = pd.melt(cdf, id_vars= ['sample'],value_vars=['X1','X2','X3'],var_name='Variable')\n",
    "        dd = dd.rename(columns={'value':'First Order Effect'})\n",
    "        \n",
    "        dd.to_csv(f'nonparametric regression/mcar_run/{x}_mcar_{p}_ipw.csv')\n",
    " \n",
    "        fig, ax = plt.subplots(1, 1,figsize=(10, 5))\n",
    "    \n",
    "        ax = sns.boxplot(x='Variable',y='First Order Effect',data=dd,hue='sample',palette=sns.color_palette('Blues'),showfliers = False) #\"Blues\" \"cubehelix\" flare_r'\n",
    "        ax.legend_.remove()\n",
    "        #ax.set(ylim=(0, 0.6))\n",
    "        fig = ax.get_figure()\n",
    "        adjust_box_widths(fig, 0.9)\n",
    "        fig.savefig('nonparametric regression/mcar/MCAR_'+str(x)+'_'+str(p)+'_iwp.pdf',transparent=True,bbox_inches='tight')\n"
   ]
  },
  {
   "cell_type": "code",
   "execution_count": null,
   "metadata": {},
   "outputs": [],
   "source": [
    "for x in ['X1','X2','X3']:\n",
    "    dX14 = pd.read_csv(f'nonparametric regression/mcar_run/{x}_mcar_0.4_ipw.csv')\n",
    "    dX14['prob'] =  dX14['sample'].apply(lambda x: 1 if x =='complete' else 0.4)\n",
    "\n",
    "    dX16 = pd.read_csv(f'nonparametric regression/mcar_run/{x}_mcar_0.7_ipw.csv')\n",
    "    #dX16 = dX16.loc[(dX16['sample']=='cc')]\n",
    "    dX16['prob'] = 0.7\n",
    "    #print(len(dX16))\n",
    "\n",
    "    dX19 = pd.read_csv(f'nonparametric regression/mcar_run/{x}_mcar_0.9_ipw.csv')\n",
    "    #dX19 = dX19.loc[(dX19['sample']=='cc')]\n",
    "    dX19['prob'] = 0.9\n",
    "    #print(len(dX19))\n",
    "\n",
    "    dp = pd.concat([dX14,dX16,dX19],axis=0,ignore_index=False)\n",
    "    \n",
    "    fig, ax = plt.subplots(1, 1,figsize=(12, 8))\n",
    "    \n",
    "    ax = sns.boxplot(x='Variable',y='First Order Effect',data=dp,hue='prob',palette=sns.color_palette('Blues'),showfliers = False,hue_order=[1,0.9,0.7,0.4]) #\"Blues\" \"cubehelix\" flare_r'\n",
    "    ax.legend_.remove()\n",
    "    #ax.set(ylim=(0.05, 0.58))\n",
    "    fig = ax.get_figure()\n",
    "    adjust_box_widths(fig, 0.9)\n",
    "    plt.xticks(fontsize = 15) \n",
    "    plt.yticks(fontsize = 15) \n",
    "    ax.set_xlabel('Variable', fontsize = 20) \n",
    "    ax.set_ylabel('First Order Effect', fontsize = 20) \n",
    "    fig.savefig(f'nonparametric regression/mcar/{x}_MCAR_iwp_np.pdf',transparent=True,bbox_inches='tight')"
   ]
  },
  {
   "cell_type": "code",
   "execution_count": null,
   "metadata": {},
   "outputs": [],
   "source": []
  },
  {
   "cell_type": "code",
   "execution_count": null,
   "metadata": {},
   "outputs": [],
   "source": []
  },
  {
   "cell_type": "code",
   "execution_count": null,
   "metadata": {},
   "outputs": [],
   "source": []
  }
 ],
 "metadata": {
  "kernelspec": {
   "display_name": "Python 3 (ipykernel)",
   "language": "python",
   "name": "python3"
  },
  "language_info": {
   "codemirror_mode": {
    "name": "ipython",
    "version": 3
   },
   "file_extension": ".py",
   "mimetype": "text/x-python",
   "name": "python",
   "nbconvert_exporter": "python",
   "pygments_lexer": "ipython3",
   "version": "3.11.5"
  }
 },
 "nbformat": 4,
 "nbformat_minor": 4
}
